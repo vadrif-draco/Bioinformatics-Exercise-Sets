{
  "nbformat": 4,
  "nbformat_minor": 0,
  "metadata": {
    "colab": {
      "name": "Bioinformatics_Exercise_Sets.ipynb",
      "provenance": [],
      "collapsed_sections": [],
      "authorship_tag": "ABX9TyOY7z3woqDJ30pWtLO3WHRm",
      "include_colab_link": true
    },
    "kernelspec": {
      "name": "python3",
      "display_name": "Python 3"
    },
    "language_info": {
      "name": "python"
    }
  },
  "cells": [
    {
      "cell_type": "markdown",
      "metadata": {
        "id": "view-in-github",
        "colab_type": "text"
      },
      "source": [
        "<a href=\"https://colab.research.google.com/github/vadrif-draco/Bioinformatics-Exercise-Sets/blob/master/Bioinformatics_Exercise_Sets.ipynb\" target=\"_parent\"><img src=\"https://colab.research.google.com/assets/colab-badge.svg\" alt=\"Open In Colab\"/></a>"
      ]
    },
    {
      "cell_type": "markdown",
      "source": [
        "#**Exercise Set 1:** Lecture 2\n",
        "---\n",
        "\n"
      ],
      "metadata": {
        "id": "BvAYblKJCrtP"
      }
    },
    {
      "cell_type": "code",
      "execution_count": null,
      "metadata": {
        "colab": {
          "base_uri": "https://localhost:8080/"
        },
        "id": "Nf96DWR7ujN0",
        "outputId": "2a4d1011-82b4-49a6-dc6d-e1f31e3031d0"
      },
      "outputs": [
        {
          "output_type": "stream",
          "name": "stdout",
          "text": [
            "AGCTTTTCATTCTGACTGCAACGGGCAATATGTCTCTGTGTGGATTAAAAAAAGAGTGTCTGATAGCAGC\n"
          ]
        }
      ],
      "source": [
        "seq = 'AGCTTTTCATTCTGACTGCAACGGGCAATATGTCTCTGTGTGGATTAAAAAAAGAGTGTCTGATAGCAGC'\n",
        "\n",
        "def checkseqvalid(seq):\n",
        "    for letter in seq:\n",
        "        if letter not in ['A', 'G', 'C', 'T']: return False\n",
        "    return seq\n",
        "\n",
        "print(checkseqvalid(seq))"
      ]
    },
    {
      "cell_type": "code",
      "source": [
        "def checkseqfreq(seq):\n",
        "    seq = seq.upper()\n",
        "    return {\n",
        "        'A':seq.count('A'),\n",
        "        'T':seq.count('T'),\n",
        "        'C':seq.count('C'),\n",
        "        'G':seq.count('G')\n",
        "    }\n",
        "    \n",
        "print(checkseqfreq(seq))"
      ],
      "metadata": {
        "colab": {
          "base_uri": "https://localhost:8080/"
        },
        "id": "6pMZ_j5curiN",
        "outputId": "f342f415-ca6f-409d-83e0-ca5d9cc01229"
      },
      "execution_count": null,
      "outputs": [
        {
          "output_type": "stream",
          "name": "stdout",
          "text": [
            "{'A': 20, 'T': 21, 'C': 12, 'G': 17}\n"
          ]
        }
      ]
    },
    {
      "cell_type": "code",
      "source": [
        "def checkseqfreq2(seq):\n",
        "    seq = seq.upper()\n",
        "    freq = [0,0,0,0]\n",
        "    for letter in seq:\n",
        "        if letter == 'A': freq[0]+=1\n",
        "        elif letter == 'T': freq[1]+=1\n",
        "        elif letter == 'C': freq[2]+=1\n",
        "        elif letter == 'G': freq[3]+=1\n",
        "    return freq\n",
        "\n",
        "print(checkseqfreq2(seq))"
      ],
      "metadata": {
        "colab": {
          "base_uri": "https://localhost:8080/"
        },
        "id": "fRo7jSG5uxfG",
        "outputId": "9c4d4f3b-abea-4629-8575-641d7739255d"
      },
      "execution_count": null,
      "outputs": [
        {
          "output_type": "stream",
          "name": "stdout",
          "text": [
            "[20, 21, 12, 17]\n"
          ]
        }
      ]
    },
    {
      "cell_type": "code",
      "source": [
        "seq1 = 'GATTACA'\n",
        "seq2 = 'GACTATA'\n",
        "\n",
        "def checkseqhamming(seq1, seq2): # Assuming same length (which is a condition for hamming distance method which allows only for substitution type of differences)\n",
        "    hammingdistance = 0\n",
        "    for i in range(len(seq1)):\n",
        "        if seq1[i] != seq2[i]: hammingdistance+=1\n",
        "    return hammingdistance\n",
        "    \n",
        "print(checkseqhamming(seq1, seq2))"
      ],
      "metadata": {
        "colab": {
          "base_uri": "https://localhost:8080/"
        },
        "id": "kopvDNxou09-",
        "outputId": "3be6eb9c-3c5d-45ee-be42-e3fefd339956"
      },
      "execution_count": null,
      "outputs": [
        {
          "output_type": "stream",
          "name": "stdout",
          "text": [
            "2\n"
          ]
        }
      ]
    },
    {
      "cell_type": "code",
      "source": [
        "seq1 = 'GATTACA'\n",
        "seq2 = 'GACTATAAA'\n",
        "\n",
        "# this one allows different lengths\n",
        "# hence it can detect more stuff than hamming\n",
        "# i.e., besides substitution differences, it can detect insertion/deletion\n",
        "# algorithm was too complex for me I couldn't write it at this time :(\n",
        "# I wrote it later though! See exercise 2\n",
        "def checkseqlevenvenevenevshtein(seq1, seq2):\n",
        "    # init\n",
        "    levenvevneshtein_distance = 0\n",
        "    # check differences in common length\n",
        "    for i in range(min(len(seq1), len(seq2))):\n",
        "        if seq1[i] != seq2[i]:\n",
        "            levenvevneshtein_distance+=1\n",
        "    # keep incrementing until the longer seq is over\n",
        "    for i in range(min(len(seq1), len(seq2)), max(len(seq1), len(seq2))):\n",
        "        levenvevneshtein_distance+=1\n",
        "        \n",
        "    return levenvevneshtein_distance\n",
        "    \n",
        "print(checkseqlevenvenevenevshtein(seq1, seq2))"
      ],
      "metadata": {
        "colab": {
          "base_uri": "https://localhost:8080/"
        },
        "id": "xwCUzSuqu5ud",
        "outputId": "5b851d6b-4835-4b20-a575-3d6dd38a53a3"
      },
      "execution_count": null,
      "outputs": [
        {
          "output_type": "stream",
          "name": "stdout",
          "text": [
            "4\n"
          ]
        }
      ]
    },
    {
      "cell_type": "code",
      "source": [
        "def countpattern(seq, pattern):\n",
        "    count = 0\n",
        "    indices = []\n",
        "    if (len(pattern) > len(seq)): return count\n",
        "    for i in range(len(seq) - len(pattern) + 1):\n",
        "        match = True\n",
        "        for j in range(len(pattern)):\n",
        "            if seq[i+j] != pattern[j]: match = False\n",
        "        if (match == True): count+=1; indices.append(i)\n",
        "    return count, indices\n",
        "\n",
        "print(countpattern(\"ACAATACGAAC\", \"AC\"))"
      ],
      "metadata": {
        "colab": {
          "base_uri": "https://localhost:8080/"
        },
        "id": "J6ACtDlau7vw",
        "outputId": "60fa5657-cb88-4e5f-bd46-dc27148f0701"
      },
      "execution_count": null,
      "outputs": [
        {
          "output_type": "stream",
          "name": "stdout",
          "text": [
            "(3, [0, 5, 9])\n"
          ]
        }
      ]
    },
    {
      "cell_type": "markdown",
      "source": [
        "# **Exercise Set 2:** Lecture 3\n",
        "---"
      ],
      "metadata": {
        "id": "PkKHGvb2C7XL"
      }
    },
    {
      "cell_type": "code",
      "source": [
        "# levenatneshetien attempt number two\n",
        "def levevenfeshtein(seq1, seq2):\n",
        "\n",
        "    grid = [[0 for col in range(len(seq2))] for row in range(len(seq1))]\n",
        "\n",
        "    for i in range(len(seq1)):\n",
        "        for j in range(len(seq2)):\n",
        "\n",
        "            if (seq1[i] == seq2[j]):\n",
        "                if (i > 0 and j > 0): grid[i][j] = grid[i-1][j-1]\n",
        "                elif (i > 0): grid[i][j] = grid[i-1][j]\n",
        "                elif (j > 0): grid[i][j] = grid[i][j-1]\n",
        "\n",
        "            else:\n",
        "                if (i > 0 and j > 0): grid[i][j] = min(grid[i-1][j],\n",
        "                                                       grid[i][j-1],\n",
        "                                                       grid[i-1][j-1]) + 1\n",
        "                elif (i > 0): grid[i][j] = grid[i-1][j] + 1\n",
        "                elif (j > 0): grid[i][j] = grid[i][j-1] + 1\n",
        "                else: grid[i][j] = 1\n",
        "\n",
        "    return grid\n",
        "\n",
        "ans = levevenfeshtein(\"kelm\", \"hello\")\n",
        "for row in ans: print(row)"
      ],
      "metadata": {
        "colab": {
          "base_uri": "https://localhost:8080/"
        },
        "id": "AuCHU4NMDTdC",
        "outputId": "09f77260-1ed8-4605-ff93-49a0b45e5a48"
      },
      "execution_count": null,
      "outputs": [
        {
          "output_type": "stream",
          "name": "stdout",
          "text": [
            "[0, 1, 2, 3, 4]\n",
            "[1, 0, 1, 2, 3]\n",
            "[2, 1, 0, 1, 2]\n",
            "[3, 2, 1, 0, 1]\n",
            "[4, 3, 2, 1, 0]\n"
          ]
        }
      ]
    },
    {
      "cell_type": "code",
      "source": [
        "def count_kmers(seq, size):\n",
        "    words = []\n",
        "    for i in range(len(seq) - size + 1):\n",
        "\n",
        "        currword = seq[i:i+3]\n",
        "        index = 0\n",
        "\n",
        "        for word in words:\n",
        "            if currword != word[0]: index+=1\n",
        "            else: break\n",
        "\n",
        "        if index == len(words): words.append([currword, 1])\n",
        "        else: words[index][1]+=1\n",
        "\n",
        "    return words\n",
        "\n",
        "print(count_kmers(\"GATGAT\", 3))"
      ],
      "metadata": {
        "colab": {
          "base_uri": "https://localhost:8080/"
        },
        "id": "j4yT_6uppVCT",
        "outputId": "1890483a-07f6-4924-96e4-e381e4036aa0"
      },
      "execution_count": null,
      "outputs": [
        {
          "output_type": "stream",
          "name": "stdout",
          "text": [
            "[['GAT', 2], ['ATG', 1], ['TGA', 1]]\n"
          ]
        }
      ]
    }
  ]
}